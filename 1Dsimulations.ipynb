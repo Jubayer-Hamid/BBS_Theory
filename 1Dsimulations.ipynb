{
 "cells": [
  {
   "cell_type": "code",
   "execution_count": 2,
   "metadata": {},
   "outputs": [],
   "source": [
    "import numpy as np\n",
    "import matplotlib.pyplot as plt\n",
    "import ipdb"
   ]
  },
  {
   "cell_type": "markdown",
   "metadata": {},
   "source": [
    "The environment consists of 10 states numbered from 1 to 10, with 10 being the terminal state. The action space consists of going left, staying in the current state and going right. We let ```delta``` refer to the noise in the environment, which is a hyperparameter. \n",
    "\n",
    "\n",
    "**Instructions:**\n",
    "\n",
    "Change the value of delta below to generate the plot for each noise level. "
   ]
  },
  {
   "cell_type": "code",
   "execution_count": 3,
   "metadata": {},
   "outputs": [],
   "source": [
    "# noise in environment \n",
    "delta = 0.8\n",
    "\n",
    "# number of states\n",
    "num_states = 10\n",
    "\n",
    "# number of actions\n",
    "num_actions = 3 # 1 for left, 2 for stay, 3 for right"
   ]
  },
  {
   "cell_type": "markdown",
   "metadata": {},
   "source": [
    "**Expert Policy**\n",
    "\n",
    "The expert's context length is 5. They will go right in every state other than state 5 where the expert will be idle unless the last five states were all state 5. "
   ]
  },
  {
   "cell_type": "code",
   "execution_count": 4,
   "metadata": {},
   "outputs": [],
   "source": [
    "def expert_policy(s_t, s_tminus1, s_tminus2, s_tminus3, s_tminus4, s_tminus5):\n",
    "    if s_t == 1:\n",
    "        return [3]\n",
    "    if s_t == 2:\n",
    "        return [3] \n",
    "    if s_t == 3:\n",
    "        return [3]\n",
    "    if s_t == 4:\n",
    "        return [3]    \n",
    "    if s_t == 5:\n",
    "        if s_tminus1 == 5 and s_tminus2 == 5 and s_tminus3 == 5 and s_tminus4 == 5 and s_tminus5 == 5:\n",
    "            return [3]\n",
    "        else:\n",
    "            return [2]\n",
    "    if s_t == 6:\n",
    "        return [3]\n",
    "    if s_t == 7:\n",
    "        return [3]    \n",
    "    if s_t == 8:\n",
    "        return [3]\n",
    "    if s_t == 9:\n",
    "        return [3]"
   ]
  },
  {
   "cell_type": "markdown",
   "metadata": {},
   "source": [
    "**Data Collection**\n",
    "\n",
    "We collect expert demonstrations. The demonstrations will be stored as ```trajectories``` which is a list containing tuples of the form ```(state visited, action taken)```"
   ]
  },
  {
   "cell_type": "code",
   "execution_count": 5,
   "metadata": {},
   "outputs": [],
   "source": [
    "def collect_data():\n",
    "    trajectories = []\n",
    "\n",
    "    for i in range(1000):\n",
    "        start = 1\n",
    "        s_t = start\n",
    "        s_tminus1 = start\n",
    "        s_tminus2 = start\n",
    "        s_tminus3 = start\n",
    "        s_tminus4 = start\n",
    "        s_tminus5 = start\n",
    "        \n",
    "        trajectory = []\n",
    "        current_state = start\n",
    "    \n",
    "        while current_state < 10:\n",
    "            actions = expert_policy(s_t, s_tminus1, s_tminus2, s_tminus3, s_tminus4, s_tminus5)\n",
    "            \n",
    "            for a_t in actions:\n",
    "                trajectory.append((current_state, a_t))\n",
    "                if a_t == 1:\n",
    "                    if np.random.rand() <= (1 - delta):\n",
    "                        current_state -= 1\n",
    "                    elif np.random.rand() < (1 - delta) + (delta)/2:\n",
    "                        current_state = current_state\n",
    "                    else:\n",
    "                        current_state += 1\n",
    "                \n",
    "                if a_t == 3:\n",
    "                    if np.random.rand() <= (1 - delta):\n",
    "                        current_state += 1\n",
    "                    else:\n",
    "                        current_state = current_state\n",
    "\n",
    "                if a_t == 2:\n",
    "                    if np.random.rand() < (1 - delta):\n",
    "                        current_state = current_state\n",
    "                    else:\n",
    "                        current_state += 1\n",
    "\n",
    "            s_tminus5 = s_tminus4\n",
    "            s_tminus4 = s_tminus3\n",
    "            s_tminus3 = s_tminus2\n",
    "            s_tminus2 = s_tminus1\n",
    "            s_tminus1 = s_t\n",
    "            s_t = current_state\n",
    "            \n",
    "        \n",
    "        trajectories.append(trajectory)\n",
    "    \n",
    "    return trajectories\n",
    "\n",
    "trajectories = collect_data()"
   ]
  },
  {
   "cell_type": "markdown",
   "metadata": {},
   "source": [
    "Preprocess the data:\n",
    "\n",
    "We add ten ```(1, 2)```'s to the beginning and ten ```(10, 2)```'s at the end of each trajectory. This makes implementing the context dependency of agents' actions easier. "
   ]
  },
  {
   "cell_type": "code",
   "execution_count": 6,
   "metadata": {},
   "outputs": [],
   "source": [
    "# for each trajecotry in trajectories, add ten 1s at the beginning and ten 10s at the end\n",
    "for i in range(len(trajectories)):\n",
    "    trajectories[i] = [(1, 2), (1, 2), (1, 2), (1, 2), (1, 2), (1, 2), (1, 2), (1, 2), (1, 2), (1, 2)] + trajectories[i] + [(10, 2), (10, 2), (10, 2), (10, 2), (10, 2), (10, 2), (10, 2), (10, 2), (10, 2), (10, 2)]"
   ]
  },
  {
   "cell_type": "markdown",
   "metadata": {},
   "source": [
    "Now, we let our expert act in the environment 100 times. The expert keeps taking actions until it reaches the terminal state, state 10. We count the number of times idle actions, i.e. action 2, were taken in each episode."
   ]
  },
  {
   "cell_type": "code",
   "execution_count": 7,
   "metadata": {},
   "outputs": [
    {
     "name": "stdout",
     "output_type": "stream",
     "text": [
      "[0.   0.   0.   0.   1.31 0.   0.   0.   0.   0.  ]\n",
      "[1, 1, 1, 1, 5, 1, 2, 1, 1, 1, 1, 1, 1, 1, 2, 1, 1, 1, 2, 1, 2, 2, 1, 1, 1, 2, 1, 1, 1, 1, 3, 1, 2, 1, 1, 1, 2, 1, 1, 2, 1, 1, 2, 1, 2, 1, 1, 1, 1, 3, 1, 1, 1, 1, 1, 1, 2, 1, 2, 1, 1, 2, 1, 3, 1, 1, 2, 1, 1, 1, 1, 1, 1, 2, 1, 1, 1, 1, 1, 1, 3, 1, 1, 1, 3, 1, 1, 1, 1, 1, 1, 2, 1, 1, 1, 1, 1, 1, 1, 1]\n"
     ]
    }
   ],
   "source": [
    "def increment_count(action, idle_counts, idle_count, current_state):\n",
    "    if action == 2:\n",
    "        try:\n",
    "            idle_counts[current_state - 1] += 1 \n",
    "            idle_count += 1\n",
    "        except:\n",
    "            ipdb.set_trace()\n",
    "        if np.random.rand() < 1 - delta:\n",
    "            current_state = current_state\n",
    "        else:\n",
    "            current_state += 1\n",
    "\n",
    "    if action == 1:\n",
    "        if np.random.rand() <= 1 - delta:\n",
    "            current_state -= 1\n",
    "        elif np.random.rand() < 1 - delta + (1 - (1 - delta))/2:\n",
    "            current_state = current_state\n",
    "        else:\n",
    "            current_state += 1\n",
    "        \n",
    "    if action == 3:\n",
    "        if np.random.rand() <= (1 - delta):\n",
    "            current_state += 1\n",
    "        else:\n",
    "            current_state = current_state\n",
    "\n",
    "    return idle_counts, idle_count, current_state\n",
    "\n",
    "def act():\n",
    "\n",
    "    '''\n",
    "    iterate over 100 episodes. \n",
    "    For each episode, start at state 1 and follow the policy generated by the expert until the end of the game at state 10\n",
    "    For each episode, keep a record of the states at which the agent took action 2 (stay) and the number of times it took action 2 at each state \n",
    "    \n",
    "    '''\n",
    "\n",
    "    idle_counts = np.zeros(num_states)\n",
    "    idle_counts_nums = []\n",
    "\n",
    "    for i in range(100):\n",
    "        current_state = 1\n",
    "        s_t = 1\n",
    "        s_tminus1 = 1\n",
    "        s_tminus2 = 1\n",
    "        s_tminus3 = 1\n",
    "        s_tminus4 = 1\n",
    "        s_tminus5 = 1\n",
    "        \n",
    "\n",
    "        idle_count = 0\n",
    "        while current_state < 10:\n",
    "            actions = expert_policy(s_t, s_tminus1, s_tminus2, s_tminus3, s_tminus4, s_tminus5)\n",
    "            \n",
    "            for a_t in actions:\n",
    "                idle_counts, idle_count, current_state = increment_count(a_t, idle_counts, idle_count, current_state)\n",
    "            \n",
    "            s_tminus5 = s_tminus4\n",
    "            s_tminus4 = s_tminus3\n",
    "            s_tminus3 = s_tminus2\n",
    "            s_tminus2 = s_tminus1\n",
    "            s_tminus1 = s_t\n",
    "            s_t = current_state\n",
    "\n",
    "            if current_state >= 10 or current_state <= 0:\n",
    "                break\n",
    "        \n",
    "        idle_counts_nums.append(idle_count)\n",
    "\n",
    "    return idle_counts/100, idle_counts_nums\n",
    "\n",
    "idle_counts_expert, idle_counts_nums_expert = act()\n",
    "print(idle_counts_expert)\n",
    "print(idle_counts_nums_expert)"
   ]
  },
  {
   "cell_type": "markdown",
   "metadata": {},
   "source": [
    "Define a policy with context length = 1 and action horizon = AH. The policy models the joint distribution of the next AH actions conditioned on the current state observation. "
   ]
  },
  {
   "cell_type": "code",
   "execution_count": 8,
   "metadata": {},
   "outputs": [],
   "source": [
    "def generate_policy(trajectories, s_t, AH):\n",
    "    ''' \n",
    "    Define the policy with action horizon = 1 and context length = \n",
    "\n",
    "    '''\n",
    "    actions = []\n",
    "\n",
    "    for trajectory in trajectories:\n",
    "        for i in range(10, len(trajectory) - AH):\n",
    "            if trajectory[i][0] == s_t:\n",
    "                    action = []\n",
    "                    for j in range(AH):\n",
    "                        action.append(trajectory[i+j][1])\n",
    "                    actions.append(action)\n",
    "\n",
    "    \n",
    "    if len(actions) == 0:\n",
    "        print('Random action')\n",
    "        # make a random distribution that sums to 1\n",
    "        action_distribution = np.random.rand(num_actions, AH)\n",
    "        action_distribution = action_distribution / np.sum(action_distribution, axis=0)\n",
    "\n",
    "    else:\n",
    "        try: \n",
    "            action_distribution = np.zeros((num_actions, AH))\n",
    "            for action in actions:\n",
    "                for j in range(AH):\n",
    "                    action_distribution[action[j]-1][j] += 1\n",
    "            \n",
    "            action_distribution = action_distribution / np.sum(action_distribution, axis=0)\n",
    "        except:\n",
    "            ipdb.set_trace()\n",
    "    \n",
    "    return action_distribution\n",
    "\n",
    "policy_cache = {}\n",
    "def get_policy(s_t, AH):\n",
    "    ''' \n",
    "    Store the action distribution for a given state s_t to avoid recomputing it\n",
    "    '''\n",
    "    if (s_t) in policy_cache:\n",
    "        return policy_cache[(s_t)]\n",
    "    policy = generate_policy(trajectories, s_t, AH)\n",
    "    policy_cache[(s_t)] = policy\n",
    "    return policy\n",
    "\n",
    "def act(AH):\n",
    "    ''' \n",
    "    Agent acts in the environment. \n",
    "    Iterate over 100 episodes. \n",
    "    For each episode, start at state 1 and follow the policy generated by the expert until the end of the game at state 10\n",
    "    For each episode, keep a record of the states at which the agent took action 2 (stay) and the number of times it took action 2 at each state \n",
    "    '''\n",
    "\n",
    "    idle_counts = np.zeros(num_states)\n",
    "    idle_counts_nums = []\n",
    "\n",
    "    for i in range(100):\n",
    "        current_state = 1\n",
    "        s_t = 1\n",
    "        s_tminus1 = 1\n",
    "        s_tminus2 = 1\n",
    "        s_tminus3 = 1\n",
    "        idle_count = 0\n",
    "        while current_state < 10:\n",
    "            policy = get_policy(s_t, AH)\n",
    "            actions = []\n",
    "\n",
    "            for i in range(AH):\n",
    "                actions.append(np.random.choice([1, 2, 3], p=policy[:,i]))\n",
    "            \n",
    "            for a_t in actions: \n",
    "                idle_counts, idle_count, current_state = increment_count(a_t, idle_counts, idle_count, current_state)\n",
    "                s_tminus3 = s_tminus2\n",
    "                s_tminus2 = s_tminus1\n",
    "                s_tminus1 = s_t\n",
    "                s_t = current_state\n",
    "                if current_state >= 10 or current_state <= 0:\n",
    "                    break\n",
    "        \n",
    "        idle_counts_nums.append(idle_count)\n",
    "\n",
    "    return idle_counts/100, idle_counts_nums"
   ]
  },
  {
   "cell_type": "markdown",
   "metadata": {},
   "source": [
    "**Agent with action horizon = 1, context length = 1**\n",
    "\n",
    "Agent generates only one action based on the current observation. "
   ]
  },
  {
   "cell_type": "code",
   "execution_count": 9,
   "metadata": {},
   "outputs": [
    {
     "name": "stdout",
     "output_type": "stream",
     "text": [
      "[0.   0.   0.   0.   1.25 0.   0.   0.   0.   0.  ]\n",
      "[1, 2, 1, 1, 1, 1, 1, 1, 1, 1, 1, 1, 1, 1, 1, 3, 1, 1, 1, 1, 1, 1, 1, 1, 1, 1, 1, 2, 1, 1, 1, 1, 1, 1, 1, 2, 1, 1, 1, 1, 1, 1, 1, 4, 2, 1, 1, 1, 1, 1, 1, 1, 1, 4, 1, 1, 1, 1, 1, 1, 2, 1, 1, 1, 1, 1, 1, 1, 1, 2, 1, 1, 2, 2, 1, 2, 1, 2, 2, 1, 1, 1, 1, 2, 1, 1, 2, 2, 2, 1, 1, 1, 1, 1, 1, 1, 1, 1, 2, 2]\n"
     ]
    }
   ],
   "source": [
    "policy_cache = {}\n",
    "idle_counts_1, idle_counts_nums_1 = act(1)\n",
    "print(idle_counts_1)\n",
    "print(idle_counts_nums_1)"
   ]
  },
  {
   "cell_type": "markdown",
   "metadata": {},
   "source": [
    "**Agent with action horizon = 3, context length = 1**\n",
    "\n",
    "Agent generates 3 actions based on the current observation. "
   ]
  },
  {
   "cell_type": "code",
   "execution_count": 10,
   "metadata": {},
   "outputs": [
    {
     "name": "stdout",
     "output_type": "stream",
     "text": [
      "[0.   0.   0.05 0.4  0.93 0.16 0.02 0.03 0.38 0.  ]\n",
      "[2, 3, 1, 2, 2, 0, 2, 1, 2, 4, 2, 1, 2, 1, 3, 4, 1, 2, 1, 1, 2, 3, 2, 1, 2, 4, 4, 0, 2, 1, 2, 4, 3, 0, 2, 2, 1, 2, 2, 1, 3, 1, 3, 0, 1, 4, 2, 3, 3, 3, 3, 1, 4, 1, 2, 2, 1, 2, 1, 3, 4, 3, 1, 0, 2, 2, 2, 3, 2, 2, 3, 3, 4, 2, 3, 3, 1, 2, 5, 1, 2, 1, 1, 1, 0, 3, 0, 2, 1, 1, 2, 1, 1, 2, 1, 2, 1, 3, 1, 3]\n"
     ]
    }
   ],
   "source": [
    "policy_cache = {}\n",
    "idle_counts_3, idle_counts_nums_3 = act(3)\n",
    "print(idle_counts_3)\n",
    "print(idle_counts_nums_3)"
   ]
  },
  {
   "cell_type": "markdown",
   "metadata": {},
   "source": [
    "**Agent with action horizon = 4, context length = 1**\n",
    "\n",
    "Agent generates 4 actions based on the current observation. "
   ]
  },
  {
   "cell_type": "code",
   "execution_count": 11,
   "metadata": {},
   "outputs": [
    {
     "name": "stdout",
     "output_type": "stream",
     "text": [
      "[0.   0.01 0.06 0.32 0.85 0.12 0.04 0.07 0.56 0.  ]\n",
      "[1, 0, 1, 3, 4, 2, 0, 3, 1, 1, 2, 2, 1, 3, 1, 2, 1, 3, 2, 2, 5, 1, 5, 2, 3, 3, 2, 3, 2, 1, 3, 4, 3, 3, 2, 2, 3, 1, 5, 1, 2, 2, 3, 3, 1, 2, 3, 2, 3, 2, 3, 1, 2, 2, 2, 0, 3, 1, 1, 2, 1, 5, 2, 3, 2, 1, 3, 1, 2, 2, 0, 2, 2, 2, 2, 3, 2, 0, 1, 2, 1, 3, 1, 3, 1, 0, 2, 0, 2, 2, 2, 2, 1, 2, 3, 3, 2, 2, 2, 2]\n"
     ]
    }
   ],
   "source": [
    "policy_cache = {}\n",
    "idle_counts_4, idle_counts_nums_4 = act(4)\n",
    "print(idle_counts_4)\n",
    "print(idle_counts_nums_4)"
   ]
  },
  {
   "cell_type": "markdown",
   "metadata": {},
   "source": [
    "**Agent with action horizon = 5, context length = 1**\n",
    "\n",
    "Agent generates 5 actions based on the current observation. "
   ]
  },
  {
   "cell_type": "code",
   "execution_count": 12,
   "metadata": {},
   "outputs": [
    {
     "name": "stdout",
     "output_type": "stream",
     "text": [
      "[0.   0.01 0.14 0.36 0.8  0.18 0.03 0.15 0.54 0.  ]\n",
      "[2, 2, 3, 1, 1, 2, 0, 2, 0, 2, 2, 4, 4, 1, 3, 2, 4, 0, 3, 2, 2, 2, 2, 2, 1, 2, 2, 0, 0, 3, 3, 2, 3, 1, 1, 2, 2, 2, 3, 3, 1, 3, 2, 5, 2, 1, 4, 1, 3, 6, 2, 2, 2, 1, 1, 3, 2, 4, 3, 1, 2, 3, 2, 0, 2, 4, 2, 4, 1, 2, 1, 1, 4, 1, 1, 2, 3, 1, 3, 2, 5, 4, 2, 2, 3, 4, 2, 4, 2, 2, 1, 2, 1, 4, 2, 4, 2, 2, 2, 3]\n"
     ]
    }
   ],
   "source": [
    "policy_cache = {}\n",
    "idle_counts_5, idle_counts_nums_5 = act(5)\n",
    "print(idle_counts_5)\n",
    "print(idle_counts_nums_5)"
   ]
  },
  {
   "cell_type": "markdown",
   "metadata": {},
   "source": [
    "**Agent with action horizon = 7, context length = 1**\n",
    "\n",
    "Agent generates 7 actions based on the current observation. "
   ]
  },
  {
   "cell_type": "code",
   "execution_count": 13,
   "metadata": {},
   "outputs": [
    {
     "name": "stdout",
     "output_type": "stream",
     "text": [
      "[0.01 0.01 0.13 0.3  0.66 0.25 0.11 0.14 0.56 0.  ]\n",
      "[3, 2, 5, 3, 3, 2, 1, 2, 2, 5, 1, 2, 2, 3, 1, 3, 1, 1, 2, 2, 3, 3, 1, 1, 3, 0, 3, 1, 2, 7, 5, 3, 2, 3, 2, 1, 2, 1, 2, 1, 2, 2, 0, 1, 3, 2, 0, 5, 4, 1, 1, 2, 2, 4, 3, 0, 2, 2, 3, 1, 3, 1, 6, 3, 3, 1, 3, 3, 2, 2, 5, 2, 2, 2, 3, 2, 1, 0, 1, 3, 3, 3, 0, 2, 3, 4, 1, 0, 1, 2, 2, 1, 3, 2, 2, 1, 1, 4, 1, 1]\n"
     ]
    }
   ],
   "source": [
    "policy_cache = {}\n",
    "idle_counts_7, idle_counts_nums_7 = act(7)\n",
    "print(idle_counts_7)\n",
    "print(idle_counts_nums_7)"
   ]
  },
  {
   "cell_type": "markdown",
   "metadata": {},
   "source": [
    "**Agent with action horizon = 10, context length = 1**\n",
    "\n",
    "Agent generates 10 actions based on the current observation. "
   ]
  },
  {
   "cell_type": "code",
   "execution_count": 14,
   "metadata": {},
   "outputs": [
    {
     "name": "stdout",
     "output_type": "stream",
     "text": [
      "[0.03 0.08 0.21 0.31 0.64 0.21 0.15 0.31 0.61 0.  ]\n",
      "[2, 2, 2, 2, 3, 0, 7, 2, 4, 2, 4, 0, 1, 1, 3, 2, 6, 2, 2, 2, 5, 3, 5, 4, 1, 4, 2, 2, 2, 1, 2, 1, 2, 5, 2, 2, 3, 2, 3, 3, 0, 3, 2, 3, 2, 5, 3, 2, 3, 3, 3, 4, 1, 2, 0, 3, 2, 1, 2, 2, 7, 3, 2, 4, 5, 4, 5, 2, 1, 1, 5, 2, 3, 3, 0, 3, 2, 2, 5, 2, 1, 2, 2, 1, 3, 5, 2, 2, 2, 1, 4, 1, 3, 1, 1, 2, 4, 3, 2, 3]\n"
     ]
    }
   ],
   "source": [
    "policy_cache = {}\n",
    "idle_counts_10, idle_counts_nums_10 = act(10)\n",
    "print(idle_counts_10)\n",
    "print(idle_counts_nums_10)"
   ]
  },
  {
   "cell_type": "markdown",
   "metadata": {},
   "source": [
    "**Plots**"
   ]
  },
  {
   "cell_type": "code",
   "execution_count": 15,
   "metadata": {},
   "outputs": [
    {
     "name": "stdout",
     "output_type": "stream",
     "text": [
      "Noise = 0.8\n"
     ]
    },
    {
     "data": {
      "image/png": "[encoded data removed]",
      "text/plain": [
       "<Figure size 640x480 with 1 Axes>"
      ]
     },
     "metadata": {},
     "output_type": "display_data"
    }
   ],
   "source": [
    "# calculate total variation distance between the distributions and expert policy\n",
    "import seaborn as sns\n",
    "import scipy.stats as stats\n",
    "\n",
    "\n",
    "print(f'Noise = {delta}')\n",
    "# Total Variation Distance between Action Horizon = 1 and Expert Policy:\n",
    "TVD1 = stats.wasserstein_distance(idle_counts_nums_1, idle_counts_nums_expert)\n",
    "# Total Variation Distance between Action Horizon = 3 and Expert Policy:\n",
    "TVD3 = stats.wasserstein_distance(idle_counts_nums_3, idle_counts_nums_expert)\n",
    "# Total Variation Distance between Action Horizon = 5 and Expert Policy:\n",
    "TVD5 = stats.wasserstein_distance(idle_counts_nums_5, idle_counts_nums_expert)\n",
    "# Total Variation Distance between Action Horizon = 7 and Expert Policy:\n",
    "TVD7 = stats.wasserstein_distance(idle_counts_nums_7, idle_counts_nums_expert)\n",
    "# Total Variation Distance between Action Horizon = 10 and Expert Policy:\n",
    "TVD10 = stats.wasserstein_distance(idle_counts_nums_10, idle_counts_nums_expert)\n",
    "            \n",
    "# Plotting KDEs\n",
    "sns.kdeplot(idle_counts_nums_1, color = 'red', label='Action Horizon = 1', fill=False)\n",
    "sns.kdeplot(idle_counts_nums_3, color = 'navy', label='Action Horizon = 3', fill=False)\n",
    "sns.kdeplot(idle_counts_nums_5, color = 'cyan', label='Action Horizon = 5', fill=False)\n",
    "sns.kdeplot(idle_counts_nums_7, color = 'grey', label='Action Horizon = 7', fill=False)\n",
    "sns.kdeplot(idle_counts_nums_10, color = 'black', linestyle='--', label='Action Horizon = 10', fill=False)\n",
    "sns.kdeplot(idle_counts_nums_expert, label='Expert Policy', color = 'black', linestyle='--', fill=False)\n",
    "\n",
    "if TVD10 == 0:\n",
    "    plt.axvline(np.mean(idle_counts_nums_10), color = 'orange') \n",
    "\n",
    "if np.std(idle_counts_nums_10) == 0:\n",
    "    plt.axvline(np.mean(idle_counts_nums_expert), color='black', linestyle='--')  \n",
    "\n",
    "\n",
    "# plt.legend([f'Action Horizon = 1, TVD = {TVD1}', f'Action Horizon = 3, TVD = {TVD3}', f'Action Horizon = 5, TVD = {TVD5}', f'Action Horizon = 7, TVD = {TVD7}', f'Action Horizon = 10, TVD = {TVD10}', 'Expert Policy'], fontsize=10)\n",
    "plt.xlabel('Number of idle actions taken', fontsize=14)\n",
    "plt.ylabel('Density', fontsize=14)\n",
    "plt.xlim(0, 10)\n",
    "plt.title(f\"Noise = {delta}\")\n",
    "plt.show()"
   ]
  },
  {
   "cell_type": "code",
   "execution_count": 16,
   "metadata": {},
   "outputs": [
    {
     "data": {
      "image/png": "[encoded data removed]",
      "text/plain": [
       "<Figure size 640x480 with 1 Axes>"
      ]
     },
     "metadata": {},
     "output_type": "display_data"
    }
   ],
   "source": [
    "# Create an empty figure\n",
    "fig, ax = plt.subplots()\n",
    "\n",
    "# Dummy lines for the legend\n",
    "line1, = ax.plot([], [], color='red', label='Horizon=1')\n",
    "line2, = ax.plot([], [], color='navy', label='Horizon=3')\n",
    "line3, = ax.plot([], [], color='cyan', label='Horizon=5')\n",
    "line4, = ax.plot([], [], color='gray', label='Horizon=7')\n",
    "line5, = ax.plot([], [], color='orange', label='Horizon=10')\n",
    "line6, = ax.plot([], [], linestyle='--', color='black', label='Expert Policy')\n",
    "\n",
    "\n",
    "legend = ax.legend(loc='center', frameon=True, ncol=6, fancybox=False, edgecolor='lightgray')\n",
    "legend.get_frame().set_linewidth(1.5)\n",
    "ax.axis('off')\n",
    "\n",
    "plt.show()"
   ]
  },
  {
   "cell_type": "code",
   "execution_count": 17,
   "metadata": {},
   "outputs": [
    {
     "name": "stdout",
     "output_type": "stream",
     "text": [
      "Total Variation Distance between Action Horizon = 1 and Expert Policy: 0.08000000000000007\n",
      "Total Variation Distance between Action Horizon = 3 and Expert Policy: 0.8\n",
      "Total Variation Distance between Action Horizon = 5 and Expert Policy: 1.02\n",
      "Total Variation Distance between Action Horizon = 7 and Expert Policy: 1.0\n",
      "Total Variation Distance between Action Horizon = 10 and Expert Policy: 1.34\n"
     ]
    }
   ],
   "source": [
    "# Print the TVDs\n",
    "print(f'Total Variation Distance between Action Horizon = 1 and Expert Policy: {TVD1}')\n",
    "print(f'Total Variation Distance between Action Horizon = 3 and Expert Policy: {TVD3}')\n",
    "print(f'Total Variation Distance between Action Horizon = 5 and Expert Policy: {TVD5}')\n",
    "print(f'Total Variation Distance between Action Horizon = 7 and Expert Policy: {TVD7}')\n",
    "print(f'Total Variation Distance between Action Horizon = 10 and Expert Policy: {TVD10}')"
   ]
  },
  {
   "cell_type": "code",
   "execution_count": 20,
   "metadata": {},
   "outputs": [
    {
     "name": "stdout",
     "output_type": "stream",
     "text": [
      "    Action Horizon = 1  Action Horizon = 3  Action Horizon = 5  \\\n",
      "0                    1                   2                   2   \n",
      "1                    2                   3                   2   \n",
      "2                    1                   1                   3   \n",
      "3                    1                   2                   1   \n",
      "4                    1                   2                   1   \n",
      "..                 ...                 ...                 ...   \n",
      "95                   1                   2                   4   \n",
      "96                   1                   1                   2   \n",
      "97                   1                   3                   2   \n",
      "98                   2                   1                   2   \n",
      "99                   2                   3                   3   \n",
      "\n",
      "    Action Horizon = 7  Action Horizon = 10  Expert Policy  \n",
      "0                    3                    2              1  \n",
      "1                    2                    2              1  \n",
      "2                    5                    2              1  \n",
      "3                    3                    2              1  \n",
      "4                    3                    3              5  \n",
      "..                 ...                  ...            ...  \n",
      "95                   1                    2              1  \n",
      "96                   1                    4              1  \n",
      "97                   4                    3              1  \n",
      "98                   1                    2              1  \n",
      "99                   1                    3              1  \n",
      "\n",
      "[100 rows x 6 columns]\n",
      "   Action Horizon   TVD\n",
      "0               1  0.08\n",
      "1               3  0.80\n",
      "2               5  1.02\n",
      "3               7  1.00\n",
      "4              10  1.34\n"
     ]
    }
   ],
   "source": [
    "import pandas as pd\n",
    "\n",
    "# Create a dataframe with the idle counts\n",
    "df = pd.DataFrame({\n",
    "    'Action Horizon = 1': idle_counts_nums_1,\n",
    "    'Action Horizon = 3': idle_counts_nums_3,\n",
    "    'Action Horizon = 5': idle_counts_nums_5,\n",
    "    'Action Horizon = 7': idle_counts_nums_7,\n",
    "    'Action Horizon = 10': idle_counts_nums_10,\n",
    "    'Expert Policy': idle_counts_nums_expert\n",
    "})\n",
    "\n",
    "# Create a dataframe with the TVDs\n",
    "df2 = pd.DataFrame({\n",
    "    'Action Horizon': [1, 3, 5, 7, 10],\n",
    "    'TVD': [TVD1, TVD3, TVD5, TVD7, TVD10]\n",
    "})\n",
    "\n",
    "# Print the dataframes\n",
    "print(df)\n",
    "print(df2)"
   ]
  },
  {
   "cell_type": "code",
   "execution_count": null,
   "metadata": {},
   "outputs": [],
   "source": []
  }
 ],
 "metadata": {
  "kernelspec": {
   "display_name": "Python 3",
   "language": "python",
   "name": "python3"
  },
  "language_info": {
   "codemirror_mode": {
    "name": "ipython",
    "version": 3
   },
   "file_extension": ".py",
   "mimetype": "text/x-python",
   "name": "python",
   "nbconvert_exporter": "python",
   "pygments_lexer": "ipython3",
   "version": "3.9.6"
  }
 },
 "nbformat": 4,
 "nbformat_minor": 2
}
